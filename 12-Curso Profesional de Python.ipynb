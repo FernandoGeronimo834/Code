{
 "cells": [
  {
   "cell_type": "markdown",
   "metadata": {},
   "source": [
    "# Organizar los archivos de tus proyectos:\n",
    "\n",
    "### Módulo:\n",
    "\n",
    "Un Modulo es cualquier archivo de Python. Generalmente, contiene codigo que puede reutilizar.\n",
    "\n",
    "### Paquete:\n",
    "\n",
    "Un Paquete es una carpeta que contiene módulos relacionados de alguna manera, que sera luego importados en otro archivo. Siempre posee el archivo __init__.py .\n",
    "\n",
    "El archivo **`__init__.py`** es lo que denota que una carpeta es un paquete, si una carpeta no tiene este archivo, quiere decir que dicha carpeta no es un paquete, y por lo tanto Python no va a tratarla como un cojunto de modulos.\n",
    "\n",
    "\n",
    "**Paquete**\n",
    "- Módulo_1\n",
    "- Módulo_2\n",
    "- Módulo_3\n",
    "- Módulo_4\n",
    "\n",
    "Ej:  \n",
    "**exploracion_espacial**\n",
    "- nave.py\n",
    "- destino.py\n",
    "- plataforma.py\n",
    "- lanzamiento.py\n",
    "- tests.py\n",
    "- validacion.py\n",
    "\n",
    "\n",
    "### Estructura de carpetas:\n",
    "\n",
    "**`exploracion_espacial_proyecto`**\n",
    "- README\n",
    "- .gitignore\n",
    "- venv\n",
    "- exploracion_espacial   <-- Paquete\n",
    "    - __init__.py\n",
    "    - nave.py\n",
    "    - destino.py\n",
    "    - plataforma.py\n",
    "    - lanzamiento.py\n",
    "    - tests.py\n",
    "    - validacion.py\n",
    "    \n",
    "### Llamar para su uso a un paquete en python:\n",
    "\n",
    "Usamos la siguiente estructura:\n",
    "\n",
    "**`from nombre_paquete.nombre_script_del_modulo import nombre_de_la_funcion ó <* (para importar todas las funciones de ese modulo)>`**\n",
    "\n",
    "Ej:\n",
    "\n",
    "**`exploracion_espacial_proyecto`**\n",
    "- README\n",
    "- .gitignore\n",
    "- venv\n",
    "- calculadora   <-- Paquete\n",
    "    - __init__.py\n",
    "    - Operaciones.py\n",
    "        - suma\n",
    "        - resta\n",
    "        - multiplicacion\n",
    "        - division\n",
    "        - potencia\n",
    "        - raiz\n",
    "    \n",
    "Luego en Python:\n",
    "\n",
    "**`from calculadora.Operaciones import suma`**\n",
    "\n",
    "**`from calculadora.Operaciones import resta`**\n",
    "\n",
    "**`from calculadora.Operaciones import multiplicacion`**\n",
    "\n",
    "**`from calculadora.Operaciones import division`**\n",
    "\n",
    "**`from calculadora.Operaciones import potencia`**\n",
    "\n",
    "**`from calculadora.Operaciones import raiz`**\n",
    "\n",
    "O podemos importar todas las funciones del modulo Operaciones:\n",
    "\n",
    "**`from calculadora.Operaciones import *`**\n",
    "\n",
    "Probar con:\n",
    "\n",
    "**`import calculadora.Operaciones as Op`**\n",
    "\n",
    "Ej de uso:\n",
    "print(Op.suma(2,4)) --> 6"
   ]
  },
  {
   "cell_type": "markdown",
   "metadata": {},
   "source": [
    "# Que son los tipados?\n",
    "\n",
    "Tipos de tipados: Estático, diinámico, débil, y fuerte\n",
    "\n",
    "Un lenguaje va a tener un diferetente tipo de tipado, dependiendo a como trata a los diferentes tipos de datos (Tipos de datos en python: numeros, arreglos --> lista, string, booleanos) el programa.\n",
    "\n",
    "Python es del tipo **Dinamico y tipado fuerte**\n",
    "\n",
    "Lenguaje compilado, es aquel que mediante la compilacion del programa transforma el codigo en lenguaje maquina (en unos y ceros -> binario), para ser ejecutado por la maquina\n",
    "\n",
    "- Estaticos: Los lenguajes de tipado estatico, son aquellos que llevantan los errores de tipo de dato en tiempo de compilacion.\n",
    "- Dinamico: Son aquellos que no levantas el error en tiempo de compilacion, sino que lo hacen en tiempo de ejecucion.\n",
    "\n",
    "\n",
    "# Tipado estatico en Python\n",
    "\n",
    "Convertir el tipado dinamico, en un tipado estatico con **Static Typing**:\n",
    "\n",
    "### Definir variables en Python con Tipado Estatico:\n",
    "\n",
    "Ej:\n",
    "\n",
    "a: int = 5\n",
    "print(a) --> 5\n",
    "\n",
    "b: str = 'Hola'\n",
    "print(b)  --> 'Hola'\n",
    "\n",
    "c: bool = True\n",
    "print(c)  --> True\n",
    "\n",
    "### Definir variables en Python con Tipado Estatico:\n",
    "\n",
    "Ej:\n",
    "\n",
    "def suma(a: int, b: int) -> int:  # El -> int:  va en el codigo, es para indicar de que tipo va a ser la salida de la funcion\n",
    "    return a + b\n",
    "    \n",
    "print(suma(1,2))    # -> 3\n",
    "\n",
    "\n",
    "## Ejemplo de un codigo con tipado + LIBRERIA PARA TIPADO ESTATICO:\n",
    "\n",
    "`from typing import Dict, List`\n",
    "\n",
    "`positives: List[int] = [1, 2, 3, 4, 5]`  # Lista con valores enteros.\n",
    "\n",
    "`users: Dict[str, int] = {`  # Diccionario cuyas llaves seran string y valores seran enteros.\n",
    "\n",
    "\t'argentina': 1,\n",
    "    \n",
    "\t'mexico': 34,\n",
    "    \n",
    "\t'colombia': 45\n",
    "    \n",
    "`}`\n",
    "\n",
    "\n",
    "`countries: List[Dict[str, str]] = [`  # Crear lista de disccionarios, cuyas llaves y valores seran strings\n",
    "\n",
    "\t{\n",
    "    \n",
    "\t\t'name':'Argentina'\n",
    "        \n",
    "\t\t'people':'45000'\n",
    "\t},\n",
    "    \n",
    "\t{\n",
    "    \n",
    "\t\t'name':'México'\n",
    "        \n",
    "\t\t'people':'900000'\n",
    "        \n",
    "\t},\n",
    "    \n",
    "\t{\n",
    "    \n",
    "\t\t'name':'Colombia'\n",
    "        \n",
    "\t\t'people':'9999999'\n",
    "\t}\n",
    "`]`\n",
    "\n",
    "### Caso especial de tipado estatico:\n",
    "\n",
    "`from typing import Tuple`\n",
    "\n",
    "`numbers: Tuple[int, float, int] = (1, 0.5, 1)` # Al ser una tupla un elemento inmutable, hay que declarar de que tipo sera cada valor, en este caso, el primero y tercer elemento sera un entero, y el segundo elemento sera un flotante.\n",
    "\n",
    "### Ejemplo complejo de un tipado estatico:\n",
    "\n",
    "`from typing import Tuple, Dict, List`\n",
    "\n",
    "`CoordinateType = List[Dict[str, Tuple[int, int]]]`  # Esto es un formato de la variable CoordinateType, que luego vamos a poder reutilizar en lugar donde debamos crear variables del mismo tipo y formato.\n",
    "\n",
    "`coordinates: CoordinateType = [`\n",
    "\n",
    "\t{\n",
    "    \n",
    "\t\t'coord1': (1, 2),\n",
    "        \n",
    "\t\t'coord2': (3, 5)\n",
    "        \n",
    "\t},\n",
    "    \n",
    "\t{\n",
    "    \n",
    "\t\t'coord1': (0, 1),\n",
    "        \n",
    "\t\t'coord2': (2, 5)\n",
    "        \n",
    "\t}\n",
    "    \n",
    "`]`\n",
    "\n",
    "\n",
    "## Modulo que nos marcaran los errores en consola al momento de correr el programa:\n",
    "\n",
    "Modulo --> **mypy**\n",
    "\n",
    "Entonces: Para que Python considere este tipado estático y no se salte, es con el módulo mypy que nos detiene cuando hay errores de tipado.\n",
    "\n",
    "\n",
    "# Practicanto el tipado estático:"
   ]
  },
  {
   "cell_type": "code",
   "execution_count": 4,
   "metadata": {},
   "outputs": [
    {
     "ename": "AttributeError",
     "evalue": "'int' object has no attribute 'replace'",
     "output_type": "error",
     "traceback": [
      "\u001b[1;31m---------------------------------------------------------------------------\u001b[0m",
      "\u001b[1;31mAttributeError\u001b[0m                            Traceback (most recent call last)",
      "\u001b[1;32m<ipython-input-4-a759bb24e3cf>\u001b[0m in \u001b[0;36m<module>\u001b[1;34m()\u001b[0m\n\u001b[0;32m     11\u001b[0m \u001b[1;33m\u001b[0m\u001b[0m\n\u001b[0;32m     12\u001b[0m \u001b[1;32mif\u001b[0m \u001b[0m__name__\u001b[0m \u001b[1;33m==\u001b[0m \u001b[1;34m\"__main__\"\u001b[0m\u001b[1;33m:\u001b[0m\u001b[1;33m\u001b[0m\u001b[0m\n\u001b[1;32m---> 13\u001b[1;33m     \u001b[0mrun\u001b[0m\u001b[1;33m(\u001b[0m\u001b[1;33m)\u001b[0m\u001b[1;33m\u001b[0m\u001b[0m\n\u001b[0m",
      "\u001b[1;32m<ipython-input-4-a759bb24e3cf>\u001b[0m in \u001b[0;36mrun\u001b[1;34m()\u001b[0m\n\u001b[0;32m      8\u001b[0m \u001b[1;33m\u001b[0m\u001b[0m\n\u001b[0;32m      9\u001b[0m \u001b[1;32mdef\u001b[0m \u001b[0mrun\u001b[0m\u001b[1;33m(\u001b[0m\u001b[1;33m)\u001b[0m\u001b[1;33m:\u001b[0m\u001b[1;33m\u001b[0m\u001b[0m\n\u001b[1;32m---> 10\u001b[1;33m     \u001b[0mprint\u001b[0m\u001b[1;33m(\u001b[0m\u001b[0mis_palindrome\u001b[0m\u001b[1;33m(\u001b[0m\u001b[1;36m1000\u001b[0m\u001b[1;33m)\u001b[0m\u001b[1;33m)\u001b[0m\u001b[1;33m\u001b[0m\u001b[0m\n\u001b[0m\u001b[0;32m     11\u001b[0m \u001b[1;33m\u001b[0m\u001b[0m\n\u001b[0;32m     12\u001b[0m \u001b[1;32mif\u001b[0m \u001b[0m__name__\u001b[0m \u001b[1;33m==\u001b[0m \u001b[1;34m\"__main__\"\u001b[0m\u001b[1;33m:\u001b[0m\u001b[1;33m\u001b[0m\u001b[0m\n",
      "\u001b[1;32m<ipython-input-4-a759bb24e3cf>\u001b[0m in \u001b[0;36mis_palindrome\u001b[1;34m(string)\u001b[0m\n\u001b[0;32m      4\u001b[0m \u001b[1;33m\u001b[0m\u001b[0m\n\u001b[0;32m      5\u001b[0m \u001b[1;32mdef\u001b[0m \u001b[0mis_palindrome\u001b[0m\u001b[1;33m(\u001b[0m\u001b[0mstring\u001b[0m\u001b[1;33m:\u001b[0m \u001b[0mstr\u001b[0m\u001b[1;33m)\u001b[0m \u001b[1;33m->\u001b[0m \u001b[0mbool\u001b[0m\u001b[1;33m:\u001b[0m\u001b[1;33m\u001b[0m\u001b[0m\n\u001b[1;32m----> 6\u001b[1;33m     \u001b[0mstring\u001b[0m \u001b[1;33m=\u001b[0m \u001b[0mstring\u001b[0m\u001b[1;33m.\u001b[0m\u001b[0mreplace\u001b[0m\u001b[1;33m(\u001b[0m\u001b[1;34m\" \"\u001b[0m\u001b[1;33m,\u001b[0m\u001b[1;34m\"\"\u001b[0m\u001b[1;33m)\u001b[0m\u001b[1;33m.\u001b[0m\u001b[0mlower\u001b[0m\u001b[1;33m(\u001b[0m\u001b[1;33m)\u001b[0m\u001b[1;33m\u001b[0m\u001b[0m\n\u001b[0m\u001b[0;32m      7\u001b[0m     \u001b[1;32mreturn\u001b[0m \u001b[0mstring\u001b[0m \u001b[1;33m==\u001b[0m \u001b[0mstring\u001b[0m\u001b[1;33m[\u001b[0m\u001b[1;33m:\u001b[0m\u001b[1;33m:\u001b[0m\u001b[1;33m-\u001b[0m\u001b[1;36m1\u001b[0m\u001b[1;33m]\u001b[0m\u001b[1;33m\u001b[0m\u001b[0m\n\u001b[0;32m      8\u001b[0m \u001b[1;33m\u001b[0m\u001b[0m\n",
      "\u001b[1;31mAttributeError\u001b[0m: 'int' object has no attribute 'replace'"
     ]
    }
   ],
   "source": [
    "# Crear .ignore desde consola --> touch .gitignore\n",
    "\n",
    "# Instalar mypy desde consola --> pip install mypy\n",
    "\n",
    "def is_palindrome(string: str) -> bool:\n",
    "    string = string.replace(\" \",\"\").lower()\n",
    "    return string == string[::-1]\n",
    "\n",
    "def run():\n",
    "    print(is_palindrome(1000))\n",
    "    \n",
    "if __name__ == \"__main__\":\n",
    "    run()\n"
   ]
  },
  {
   "cell_type": "markdown",
   "metadata": {},
   "source": [
    "### Usando mypy en consola:\n",
    "\n",
    "Arriba usamos el metodo de tipado estatico para crear las funciones, al momento de probar esta funcion ingrese aproposito un numero entero, cuando a la funcion se le indico que el parametro de entrada deberia ser un string.\n",
    "\n",
    "Al momento de ejecutarlo normalmente solo me marcara el error de que al ingresar un valor entero el metodo replace no es un atributo de un entero.\n",
    "\n",
    "Pero si quiero verificar si hay error con el tipado estatico lo que debo hacer es guardar mi programa con la extension .py, y en consola, (profesionalmente dentro de mi entorno virtual) ejecuto el programa de la siguiente forma:\n",
    "\n",
    "**`mypy palindrome.py --check-untyped-defs`**\n",
    "\n",
    "Aplicado ese codigo nos marcara el error (traducido) El argumento 1 de \"palindrome\" es incompatible con el tipo entero, se esperaba un string."
   ]
  },
  {
   "cell_type": "markdown",
   "metadata": {},
   "source": [
    "# Scope: Alcance de las variable\n",
    "\n",
    "Una variable solo está disponible dentro de la región donde fue creada.\n",
    "\n",
    "- **Local Scope:** Es la region que se corresponde al ambito de  una funcion, donde viven una o más variables.\n",
    "\n",
    "Ej: \n",
    "\n",
    "`def my_func():`\n",
    "\n",
    "    y = 5\n",
    "    \n",
    "    print(y)\n",
    "    \n",
    "`my_func()`  --> 5\n",
    "\n",
    "En este caso la variable fue creada dentro de la funcion, por lo tanto, no puede ser leida fuera de la region de donde fue creada, en este caso no puede ser leida fuera de la funcion.\n",
    "\n",
    "- **Global Scope:** Son la variables creadas que tendran alcanze en todo nuestro programa.\n",
    "\n",
    "Ej: \n",
    "\n",
    "y = 5\n",
    "\n",
    "`def my_func():`\n",
    "    \n",
    "    print(y)\n",
    "\n",
    "`def my_other_func():`\n",
    "\n",
    "    print(y)\n",
    "    \n",
    "`my_func()`   --> 5\n",
    "\n",
    "`my_other_func()`  --> 5\n",
    "\n",
    "En este caso al ser una variable global, la funciones puede acceder y leer dicha funcion, ya que el alcanze de dicha variable es global. Lo que no suece cuando se habla de una local scope.\n",
    "\n",
    "\n",
    "### Ejemplos con una variable con el mismo nombre, pero una siendo global scope y la otra como local scope:\n",
    "\n",
    "z = 5  # Global Scope\n",
    "\n",
    "`def my_func():`\n",
    "\n",
    "    z = 3  # Local Scope\n",
    "\n",
    "    print(z)\n",
    "\n",
    "`my_func()`  --> 3\n",
    "\n",
    "`print(z)`  --> 5\n",
    "\n",
    "---\n",
    "otro ejemplo:\n",
    "\n",
    "z = 5\n",
    "\n",
    "`def my_func():`\n",
    "\n",
    "    z = 3  # Local Scope de my_func\n",
    "    \n",
    "    def my_other_func():\n",
    "     \n",
    "    z = 2 # Local Scope de my_other_func\n",
    "    \n",
    "    print(z)  --> 2\n",
    "    \n",
    "    my_other_func()\n",
    "    \n",
    "    print(z)  --> 3\n",
    "\n",
    "`my_func()`  --> 3  # Dentro de esta funcion llama primer a la funcion my_other_func() la cual imprime su correspondiente local scope (z = 2), luego imprime la local scope de la funcion my_func()  la cual es z = 3\n",
    "\n",
    "`print(z)`  --> 5\n",
    "\n",
    "Orden de resultados:  \n",
    "\n",
    "- 2\n",
    "- 3\n",
    "- 5"
   ]
  },
  {
   "cell_type": "markdown",
   "metadata": {},
   "source": [
    "# Closures\n",
    "\n",
    "\n",
    "## Nested function\n",
    "\n",
    "Traducidas, \"funciones anidadas\". Son aquellas funciones que son creadas dentro de otras funciones\n",
    "\n",
    "Ej:\n",
    "\n",
    "`def main():`\n",
    "\n",
    "    a = 1\n",
    "    \n",
    "    def nested():\n",
    "    \n",
    "        print(a)\n",
    "    \n",
    "    nested()\n",
    "    \n",
    "`main()`  -> 1\n",
    "\n",
    "Modificacion:\n",
    "\n",
    "`def main():`\n",
    "\n",
    "    a = 1\n",
    "    \n",
    "    def nested():\n",
    "    \n",
    "        print(a)\n",
    "    \n",
    "    return nested\n",
    "    \n",
    "`my_func = main()`  # Lo que guarda esta variable es lo que contiene la funcion nested, es decir que ahora my_func es una funcion del tipo nested.\n",
    "\n",
    "`my_func()`   # Al ejecutar esta funcion me devuelve el print(a) -> 1\n",
    "\n",
    "\n",
    "Otra modificacion:\n",
    "\n",
    "`def main():`\n",
    "\n",
    "    a = 1\n",
    "    \n",
    "    def nested():\n",
    "    \n",
    "        print(a)\n",
    "    \n",
    "    nested()\n",
    "    \n",
    "    \n",
    "`my_func = main()`  \n",
    "\n",
    "`my_func()`\n",
    "\n",
    "`del(main)`  # Elimina la funcion main\n",
    "\n",
    "`my_func()`  # Lo que sucede aqui es que por mas que elimine la funcion main, donde esta declarada la local scope, la misma sera recordada, ya que la funcion nested function esta recordando una variable de un scope superior, entonces en este caso nos encontramos con un closures.\n",
    "\n",
    "**Por lo tanto un closures sera cuando una variable de un scope superior es recordada, y aunque se elimine ese scope superior (inclusive la funcion que la contiene) yo puedo seguir accediendo a la variable \"a\"**.\n",
    "\n",
    "### Reglas para encontrar un closure:\n",
    "\n",
    "- Debemos tener una nested function.\n",
    "- La nested function debe referenciar un valor de un scope superior.\n",
    "- La funcion que envuelve a la nested function debe retornarla tambien.\n",
    "\n",
    "\n",
    "### Ejemplo comun de analisis:\n",
    "\n",
    "`def make_multiplier(x):`\n",
    "\n",
    "    def multiplier(n):\n",
    "    \n",
    "        return x * n\n",
    "        \n",
    "    return multiplier\n",
    "    \n",
    "`times10 = make_multiplier(10)`  # La funcion times10 es una funcion del tipo multiplier, lo que esta haciendo make_multiplier es guardar el valor de x, el cual es su parametro. (x = 10)\n",
    "\n",
    "`times4 = make_multiplier(4)`  # Idem \n",
    "\n",
    "`print(time10(3))`  # Se ejecuta la funcion time10 la cual es del tipo multiplier  que ahora ya recuerdo el scope de orden superior (x), por lo que ahora necesita el paramentro n (n = 3).\n",
    "\n",
    "`print(time4(5))` # Idem\n",
    "\n",
    "`print(time10(time4(2)))`\n",
    "\n",
    "Resultado:\n",
    "\n",
    "- 30\n",
    "- 20\n",
    "- 80\n",
    "\n",
    "\n",
    "## Donde aparecen los closures?\n",
    "\n",
    "- Al trabajar con POO cuando tengamos una clase que tiene solo un metodo, se suele usar closures para hacer que dicha clase sea mas elegante.\n",
    "- Tambien se suelen usar al trabajar con decoradores.\n",
    "\n",
    "# Programando closures:"
   ]
  },
  {
   "cell_type": "code",
   "execution_count": 10,
   "metadata": {},
   "outputs": [
    {
     "name": "stdout",
     "output_type": "stream",
     "text": [
      "HolaHolaHolaHolaHola\n"
     ]
    }
   ],
   "source": [
    "def repetir(n):\n",
    "    def string(palabra):\n",
    "        assert type(palabra) == str, \"Debe ingresar un string.\"\n",
    "        return palabra * n\n",
    "    return string\n",
    "\n",
    "\n",
    "def run():\n",
    "    palabra1 = repetir(5)\n",
    "    print(palabra1(\"Hola\"))\n",
    "\n",
    "if __name__ == \"__main__\":\n",
    "    run()"
   ]
  },
  {
   "cell_type": "markdown",
   "metadata": {},
   "source": [
    "# Decoradores:\n",
    "\n",
    "Definicion: Función que recibe como parámetros otra función, le añade cosas, la ejecuta y retorna una función diferente."
   ]
  },
  {
   "cell_type": "code",
   "execution_count": 16,
   "metadata": {},
   "outputs": [
    {
     "name": "stdout",
     "output_type": "stream",
     "text": [
      "\n",
      " Funcion sin decorador:\n",
      "\n",
      "¡Hola!\n",
      "\n",
      " Funcion con decorador:\n",
      "\n",
      "Esto se añade a mi función original\n",
      "¡Hola!\n"
     ]
    }
   ],
   "source": [
    "def decorador(func):\n",
    "    def envoltura():\n",
    "        print('Esto se añade a mi función original')\n",
    "        func()\n",
    "    return envoltura\n",
    "\n",
    "def saludo():\n",
    "    print('¡Hola!')\n",
    "print('\\n Funcion sin decorador:\\n')\n",
    "saludo()\n",
    "print('\\n Funcion con decorador:\\n')\n",
    "# Output\n",
    "# \"¡Hola!\"\n",
    "\n",
    "saludo = decorador(saludo)\n",
    "saludo()\n",
    "\n",
    "# output\n",
    "# Esto se añade a mi función original\n",
    "# \"¡Hola!\""
   ]
  },
  {
   "cell_type": "code",
   "execution_count": 18,
   "metadata": {},
   "outputs": [
    {
     "name": "stdout",
     "output_type": "stream",
     "text": [
      "Esto se añade a mi función original\n",
      "¡Hola!\n"
     ]
    }
   ],
   "source": [
    "def decorador(func):\n",
    "    def envoltura():\n",
    "        print('Esto se añade a mi función original')\n",
    "        func()\n",
    "    return envoltura\n",
    "\n",
    "def saludo():\n",
    "    print('¡Hola!')\n",
    "    \n",
    "saludo = decorador(saludo)\n",
    "saludo()"
   ]
  },
  {
   "cell_type": "markdown",
   "metadata": {},
   "source": [
    "# Usar decoradores de una forma más estetica con azucar sintactica:"
   ]
  },
  {
   "cell_type": "code",
   "execution_count": 20,
   "metadata": {},
   "outputs": [
    {
     "name": "stdout",
     "output_type": "stream",
     "text": [
      "Esto se añade a mi función original\n",
      "¡Hola!\n"
     ]
    }
   ],
   "source": [
    "def decorador(func):\n",
    "    def envoltura():\n",
    "        print('Esto se añade a mi función original')\n",
    "        func()\n",
    "    return envoltura\n",
    "\n",
    "@decorador\n",
    "def saludo():\n",
    "    print('¡Hola!')\n",
    "    \n",
    "\n",
    "saludo()"
   ]
  },
  {
   "cell_type": "code",
   "execution_count": 1,
   "metadata": {},
   "outputs": [
    {
     "name": "stdout",
     "output_type": "stream",
     "text": [
      "FERNANDO, RECIBISTE UN MENSAJE\n"
     ]
    }
   ],
   "source": [
    "# EJEMPLO:\n",
    "\n",
    "def mayusculas(func):\n",
    "    def envoltura(texto):\n",
    "        return func(texto).upper()\n",
    "    return envoltura\n",
    "\n",
    "@mayusculas\n",
    "def mensaje(nombre):\n",
    "    return(f'{nombre}, recibiste un mensaje')\n",
    "\n",
    "print(mensaje('Fernando'))"
   ]
  },
  {
   "cell_type": "code",
   "execution_count": 12,
   "metadata": {},
   "outputs": [
    {
     "name": "stdout",
     "output_type": "stream",
     "text": [
      "Pasaron 0.0 segundos.\n",
      "Pasaron 1.030421 segundos.\n",
      "hola Cesar\n",
      "Pasaron 0.0 segundos.\n"
     ]
    }
   ],
   "source": [
    "# Programa util de decoradores\n",
    "\n",
    "from datetime import datetime \n",
    "\n",
    "def execution_time(func):\n",
    "    def wrapper(*args, **kwargs):  # wrapper o envoltura\n",
    "        inicio_time = datetime.now()\n",
    "        func(*args, **kwargs)  # *args, **kwargs --> args hace referencia a argumentos posicionales (* indica que no importa cuandos  \n",
    "        #           argumentos posicionales le ingrese, la funcion debe ejecutarse) , mientras que con el **\n",
    "        #           le indicamos a python que no importa cuantos argumentos nombrados le pasemos, la funcion se va a ejecutar.\n",
    "        final_time = datetime.now()\n",
    "        time_elapsed = final_time - inicio_time\n",
    "        return ('Pasaron ' +str( time_elapsed.total_seconds()) + \" segundos.\")\n",
    "    return wrapper\n",
    "\n",
    "@execution_time\n",
    "def random_fun():\n",
    "    \n",
    "    for _ in range(1,10000000): # Usamos _ por que no nos interesa saber la variable que tomara en cada ciclo, solo queremos saber\n",
    "                                # Cuanto tarda en terminar de ejecutar todos esos ciclos.\n",
    "        pass\n",
    "    \n",
    "@execution_time    \n",
    "def suma(a: int, b: int) -> int:  # Los parametros de esta funcion son parametros posicionales\n",
    "    return a + b\n",
    "\n",
    "print(suma(5,5))\n",
    "#random_fun()\n",
    "\n",
    "@execution_time\n",
    "def saludo(nombre = \"Cesar\"):  # Este tipo de parametros, que tiene un nombre (nombre = ), son parametros nombrados, son kwarguments\n",
    "    print(\"hola \" + nombre)\n",
    "\n",
    "print(random_fun())\n",
    "print(saludo())"
   ]
  },
  {
   "cell_type": "markdown",
   "metadata": {},
   "source": [
    "# Estructuras de datos avanzadas:\n",
    "\n",
    "## Iteradores:\n",
    "\n",
    "Es una estructura de datos para guardar datos infinitos.\n",
    "\n",
    "Iterables: Son todos aquellos objetos, lo cuales podemos recorrer en un ciclo, por ejemplo, una lista, strings, tupla, y otras, las cuales puedo recorrer sus elementos por un ciclo.\n",
    "\n",
    "### Creando un iterador:\n"
   ]
  },
  {
   "cell_type": "code",
   "execution_count": 18,
   "metadata": {},
   "outputs": [
    {
     "name": "stdout",
     "output_type": "stream",
     "text": [
      "1\n",
      "2\n"
     ]
    }
   ],
   "source": [
    "# Creando un iterador\n",
    "my_list = [1,2,3,4,5]\n",
    "my_iter = iter(my_list)\n",
    "\n",
    "# Iterando un iterador\n",
    "print(next(my_iter))  # --> 1\n",
    "print(next(my_iter))  # --> 2\n",
    "# la primera ejecucion me dara 1\n",
    "# La segunda ejecucion me dara 2\n",
    "# y asi sucesivamente\n",
    "\n",
    "# Cuando no quedan datos (elementos que devolver por next), la excepcion StopIteration es elevada\n"
   ]
  },
  {
   "cell_type": "markdown",
   "metadata": {},
   "source": [
    "### Pero que sucede si queremos iterar una lista con un millon de elementos:"
   ]
  },
  {
   "cell_type": "code",
   "execution_count": 21,
   "metadata": {},
   "outputs": [
    {
     "name": "stdout",
     "output_type": "stream",
     "text": [
      "1\n",
      "2\n",
      "3\n",
      "4\n",
      "5\n"
     ]
    }
   ],
   "source": [
    "# Creando un iterador\n",
    "my_list = [1,2,3,4,5]\n",
    "my_iter = iter(my_list)\n",
    "\n",
    "# Iterando un iterador\n",
    "while True:\n",
    "    try:\n",
    "        element = next(my_iter)\n",
    "        print(element)\n",
    "    except StopIteration:\n",
    "        break"
   ]
  },
  {
   "cell_type": "markdown",
   "metadata": {},
   "source": [
    "### Sin embargo lo de arriba es complejo, por ello se trabaja con el ciclo for, donde for no es nada más que un alias del while True:"
   ]
  },
  {
   "cell_type": "code",
   "execution_count": 23,
   "metadata": {},
   "outputs": [
    {
     "name": "stdout",
     "output_type": "stream",
     "text": [
      "1\n",
      "2\n",
      "3\n",
      "4\n",
      "5\n"
     ]
    }
   ],
   "source": [
    "for element in my_list:\n",
    "    print(element)"
   ]
  },
  {
   "cell_type": "markdown",
   "metadata": {},
   "source": [
    "## Como construyo un iterador:\n",
    "\n",
    "Clase 12 Iteradores\n",
    "\n",
    "\n",
    "\n",
    "# Generadores\n",
    "\n",
    "Un generador es una funcion que guarda estados.\n",
    "\n",
    "\"Sugar syntax\" de los iteradores.\n",
    "\n",
    "Observacion: \n",
    "\n",
    "**`yield`** cumple casi la misma funcion que **`return`**, con la diferencia que en ver de cortar la ejecucion de la funcion, `yield` deja en pausa la funcion. Permitiendo que al volver a llamar la funcion no deba iniciar desde el principio, sino que continuara desde donde se llama al ultimo `yield`."
   ]
  },
  {
   "cell_type": "code",
   "execution_count": 25,
   "metadata": {},
   "outputs": [
    {
     "name": "stdout",
     "output_type": "stream",
     "text": [
      "Hello world!\n",
      "0\n",
      "Hello heaven!\n",
      "1\n",
      "Hello hell!\n",
      "2\n"
     ]
    },
    {
     "ename": "StopIteration",
     "evalue": "",
     "output_type": "error",
     "traceback": [
      "\u001b[1;31m---------------------------------------------------------------------------\u001b[0m",
      "\u001b[1;31mStopIteration\u001b[0m                             Traceback (most recent call last)",
      "\u001b[1;32m<ipython-input-25-f9e4fe510452>\u001b[0m in \u001b[0;36m<module>\u001b[1;34m()\u001b[0m\n\u001b[0;32m     20\u001b[0m \u001b[0mprint\u001b[0m\u001b[1;33m(\u001b[0m\u001b[0mnext\u001b[0m\u001b[1;33m(\u001b[0m\u001b[0ma\u001b[0m\u001b[1;33m)\u001b[0m\u001b[1;33m)\u001b[0m \u001b[1;31m# Hello heaven!\u001b[0m\u001b[1;33m\u001b[0m\u001b[0m\n\u001b[0;32m     21\u001b[0m \u001b[0mprint\u001b[0m\u001b[1;33m(\u001b[0m\u001b[0mnext\u001b[0m\u001b[1;33m(\u001b[0m\u001b[0ma\u001b[0m\u001b[1;33m)\u001b[0m\u001b[1;33m)\u001b[0m \u001b[1;31m# Hello hell\u001b[0m\u001b[1;33m\u001b[0m\u001b[0m\n\u001b[1;32m---> 22\u001b[1;33m \u001b[0mprint\u001b[0m\u001b[1;33m(\u001b[0m\u001b[0mnext\u001b[0m\u001b[1;33m(\u001b[0m\u001b[0ma\u001b[0m\u001b[1;33m)\u001b[0m\u001b[1;33m)\u001b[0m \u001b[1;31m# StopIteration\u001b[0m\u001b[1;33m\u001b[0m\u001b[0m\n\u001b[0m",
      "\u001b[1;31mStopIteration\u001b[0m: "
     ]
    }
   ],
   "source": [
    "# Ejemplo de Generadores\n",
    "\n",
    "def my_gen():\n",
    "    \"\"\" Un ejemplo de generadores\"\"\"\n",
    "    print('Hello world!')\n",
    "    n = 0\n",
    "    yield n\n",
    "    \n",
    "    print('Hello heaven!')\n",
    "    n = 1\n",
    "    yield n\n",
    "    \n",
    "    print('Hello hell!')\n",
    "    n = 2\n",
    "    yield n\n",
    "    \n",
    "a = my_gen()  # en \"a\" se va a guardar un objeto de tipo generador, que guardara todo el codigo de arriba.\n",
    "\n",
    "print(next(a)) # Hello world!\n",
    "print(next(a)) # Hello heaven!\n",
    "print(next(a)) # Hello hell\n",
    "print(next(a)) # StopIteration\n",
    "\n"
   ]
  },
  {
   "cell_type": "markdown",
   "metadata": {},
   "source": [
    "## Generator expression:\n",
    "\n",
    "\n",
    "A diferencia de un list conprehension, el cual guarda todos los elementos en memoria mientras se ejecuta, es un problema cuando debemos leer una cantidad gigantesca de elementos, eso por el tema de memoria y velocidad de ejecucion del programa. Sin embargo podemos usar los Generator expression para solucionar el problema de la memoria y la velocidad de ejecucion, esto debido a que el generator me traera un elemento a la vez cuando yo lo recorra, es decir cuando con un ciclo for me voy por cada uno de los elementos del generador que estoy creando con el Generator expression, lo que voy a estar haciendo es sacando uno por uno los elementos; al igual que con los iteradores, no necesito guardar la totalidad de los elementos, lo que si pasa con los list comprehension."
   ]
  },
  {
   "cell_type": "code",
   "execution_count": 26,
   "metadata": {},
   "outputs": [],
   "source": [
    "# Generator expression\n",
    "\n",
    "my_list = [0,1,4,7,9,10]\n",
    "\n",
    "my_second_list = [x**2 for x in my_list]  # List comprehension.\n",
    "my_second_gen = (x**2 for x in my_list)  # Generator Expression."
   ]
  },
  {
   "cell_type": "markdown",
   "metadata": {},
   "source": [
    "# Sets\n",
    "\n",
    "(o conjuntos)\n",
    "\n",
    "Los sets son una coleccion desordenada de elementos únicos e inmutables.\n",
    "\n",
    "Elementos inmutables: Pueden ser una Tupla, quedan descartadas las listas."
   ]
  },
  {
   "cell_type": "code",
   "execution_count": 28,
   "metadata": {},
   "outputs": [
    {
     "name": "stdout",
     "output_type": "stream",
     "text": [
      "My set =  {3, 4, 5}\n",
      "My set 2 =  {False, True, 'Hola', 23.3}\n",
      "My set 3 =  {2, 3}\n"
     ]
    },
    {
     "ename": "TypeError",
     "evalue": "unhashable type: 'list'",
     "output_type": "error",
     "traceback": [
      "\u001b[1;31m---------------------------------------------------------------------------\u001b[0m",
      "\u001b[1;31mTypeError\u001b[0m                                 Traceback (most recent call last)",
      "\u001b[1;32m<ipython-input-28-788b83c9d2d0>\u001b[0m in \u001b[0;36m<module>\u001b[1;34m()\u001b[0m\n\u001b[0;32m      8\u001b[0m \u001b[0mprint\u001b[0m\u001b[1;33m(\u001b[0m\u001b[1;34m\"My set 3 = \"\u001b[0m\u001b[1;33m,\u001b[0m\u001b[0mmy_set3\u001b[0m\u001b[1;33m)\u001b[0m  \u001b[1;31m# -> {2, 3}  Devuelve solo dos elementos, debido a que un set no puede tener elementos repetidos\u001b[0m\u001b[1;33m\u001b[0m\u001b[0m\n\u001b[0;32m      9\u001b[0m \u001b[1;33m\u001b[0m\u001b[0m\n\u001b[1;32m---> 10\u001b[1;33m \u001b[0mmy_set4\u001b[0m \u001b[1;33m=\u001b[0m \u001b[1;33m{\u001b[0m\u001b[1;33m[\u001b[0m\u001b[1;36m1\u001b[0m\u001b[1;33m,\u001b[0m\u001b[1;36m2\u001b[0m\u001b[1;33m,\u001b[0m\u001b[1;36m3\u001b[0m\u001b[1;33m]\u001b[0m\u001b[1;33m,\u001b[0m \u001b[1;36m4\u001b[0m\u001b[1;33m}\u001b[0m \u001b[1;31m# -> nos da error, debido a que un set no puede tener elemento mutable, y una lista es un elemento mutable\u001b[0m\u001b[1;33m\u001b[0m\u001b[0m\n\u001b[0m\u001b[0;32m     11\u001b[0m \u001b[0mprint\u001b[0m\u001b[1;33m(\u001b[0m\u001b[1;34m'My set 4 = '\u001b[0m\u001b[1;33m,\u001b[0m\u001b[0mmy_set4\u001b[0m\u001b[1;33m)\u001b[0m\u001b[1;33m\u001b[0m\u001b[0m\n",
      "\u001b[1;31mTypeError\u001b[0m: unhashable type: 'list'"
     ]
    }
   ],
   "source": [
    "my_set = {3,4,5}\n",
    "print('My set = ',my_set)\n",
    "\n",
    "my_set2 = {'Hola', 23.3, False, True}\n",
    "print('My set 2 = ',my_set2)\n",
    "\n",
    "my_set3 = {3,3,2}\n",
    "print(\"My set 3 = \",my_set3)  # -> {2, 3}  Devuelve solo dos elementos, debido a que un set no puede tener elementos repetidos\n",
    "\n",
    "my_set4 = {[1,2,3], 4} # -> nos da error, debido a que un set no puede tener elemento mutable, y una lista es un elemento mutable\n",
    "print('My set 4 = ',my_set4)"
   ]
  },
  {
   "cell_type": "code",
   "execution_count": 30,
   "metadata": {},
   "outputs": [
    {
     "name": "stdout",
     "output_type": "stream",
     "text": [
      "<class 'dict'>\n",
      "<class 'set'>\n"
     ]
    }
   ],
   "source": [
    "empty_set = {}\n",
    "print(type(empty_set)) #--> Python reconoce como un diccionario a una llave vacia.\n",
    "\n",
    "# CREAR SETS VACIOS:\n",
    "\n",
    "empty_set = set()\n",
    "print(type(empty_set))"
   ]
  },
  {
   "cell_type": "markdown",
   "metadata": {},
   "source": [
    "## Castings con sets:\n",
    "\n",
    "Convertir una estructura de datos en un set, o viceversa."
   ]
  },
  {
   "cell_type": "code",
   "execution_count": 35,
   "metadata": {},
   "outputs": [
    {
     "name": "stdout",
     "output_type": "stream",
     "text": [
      "{1, 2, 3, 4, 5}\n",
      "{1, 'Hola'}\n"
     ]
    }
   ],
   "source": [
    "my_list = [1,1,2,3,4,4,5]\n",
    "my_set = set(my_list)\n",
    "print(my_set)\n",
    "\n",
    "\n",
    "my_tuple = ('Hola', 'Hola', 'Hola', 1)\n",
    "my_set2 = set(my_tuple)\n",
    "print(my_set2)"
   ]
  },
  {
   "cell_type": "markdown",
   "metadata": {},
   "source": [
    "## Añadir elementos a un Set:\n"
   ]
  },
  {
   "cell_type": "code",
   "execution_count": 37,
   "metadata": {},
   "outputs": [
    {
     "name": "stdout",
     "output_type": "stream",
     "text": [
      "{1, 2, 3}\n",
      "{1, 2, 3, 4}\n",
      "{1, 2, 3, 4, 5}\n",
      "{1, 2, 3, 4, 5, 6, 7, 8}\n"
     ]
    }
   ],
   "source": [
    "my_set = {1,2,3}\n",
    "print(my_set)\n",
    "\n",
    "# Añadir un elemento\n",
    "my_set.add(4)\n",
    "print(my_set)\n",
    "\n",
    "\n",
    "# Añadir múltiples elementos\n",
    "my_set.update([1,2,5])\n",
    "print(my_set)\n",
    "\n",
    "# Añadir múltiples elementos\n",
    "my_set.update((1,7,2),{6,8})\n",
    "print(my_set)"
   ]
  },
  {
   "cell_type": "markdown",
   "metadata": {},
   "source": [
    "## Borrar elementos a un Set:\n"
   ]
  },
  {
   "cell_type": "code",
   "execution_count": 48,
   "metadata": {},
   "outputs": [
    {
     "name": "stdout",
     "output_type": "stream",
     "text": [
      "{1, 2, 3, 4, 5, 6, 7}\n",
      "{2, 3, 4, 5, 6, 7}\n",
      "{3, 4, 5, 6, 7}\n",
      "{3, 4, 5, 6, 7}\n",
      "{4, 5, 6, 7}\n",
      "set()\n"
     ]
    }
   ],
   "source": [
    "my_set = {1,2,3,4,5,6,7}\n",
    "print(my_set)\n",
    "\n",
    "# Borrar un elemento existente\n",
    "my_set.discard(1)\n",
    "print(my_set)\n",
    "\n",
    "# Borrar un elemento existente\n",
    "my_set.remove(2)\n",
    "print(my_set)\n",
    "\n",
    "# Borrar un elemento inexistente\n",
    "my_set.discard(10)  # Si el elemento no existe, y con discard quiero borrarlo, python no hace nada, solo me devuelve el set sin modificaciones\n",
    "print(my_set)\n",
    "\n",
    "# Borrar un elemento inexistente\n",
    "#my_set.remove(12)  # Si uso remove, me dara un error.\n",
    "#print(my_set)\n",
    "\n",
    "# Borrar un elemento aleatorio\n",
    "my_set.pop()\n",
    "print(my_set)\n",
    "\n",
    "\n",
    "# Limpiar el set\n",
    "my_set.clear()\n",
    "print(my_set)"
   ]
  },
  {
   "cell_type": "markdown",
   "metadata": {},
   "source": [
    "## Operaciones con SET´s\n",
    "\n",
    "Unión, intersección y diferencia."
   ]
  },
  {
   "cell_type": "code",
   "execution_count": 50,
   "metadata": {},
   "outputs": [
    {
     "name": "stdout",
     "output_type": "stream",
     "text": [
      "{3, 4, 5, 6, 7}\n"
     ]
    }
   ],
   "source": [
    "# UNION\n",
    "\n",
    "my_set1 = {3,4,5}\n",
    "my_set2 = {5,6,7}\n",
    "\n",
    "my_set3 = my_set1 | my_set2\n",
    "print(my_set3)"
   ]
  },
  {
   "cell_type": "code",
   "execution_count": 52,
   "metadata": {},
   "outputs": [
    {
     "name": "stdout",
     "output_type": "stream",
     "text": [
      "{5}\n"
     ]
    }
   ],
   "source": [
    "# INTERSECCIÓN\n",
    "\n",
    "my_set1 = {3,4,5}\n",
    "my_set2 = {5,6,7}\n",
    "\n",
    "my_set3 = my_set1 & my_set2\n",
    "print(my_set3)\n"
   ]
  },
  {
   "cell_type": "code",
   "execution_count": 54,
   "metadata": {},
   "outputs": [
    {
     "name": "stdout",
     "output_type": "stream",
     "text": [
      "{3, 4}\n",
      "{6, 7}\n"
     ]
    }
   ],
   "source": [
    "# DIFERENCIA\n",
    "\n",
    "my_set1 = {3,4,5}\n",
    "my_set2 = {5,6,7}\n",
    "\n",
    "my_set3 = my_set1 - my_set2\n",
    "print(my_set3)\n",
    "\n",
    "my_set4 = my_set2 - my_set1\n",
    "print(my_set4)"
   ]
  },
  {
   "cell_type": "code",
   "execution_count": 56,
   "metadata": {},
   "outputs": [
    {
     "name": "stdout",
     "output_type": "stream",
     "text": [
      "{3, 4, 6, 7}\n"
     ]
    }
   ],
   "source": [
    "# DIFERENCIA SIMETRICA: me quedo con los elementos que no se comparte en ambos sets\n",
    "my_set1 = {3,4,5}\n",
    "my_set2 = {5,6,7}\n",
    "\n",
    "my_set3 = my_set1 ^ my_set2\n",
    "print(my_set3)"
   ]
  },
  {
   "cell_type": "code",
   "execution_count": 58,
   "metadata": {},
   "outputs": [
    {
     "name": "stdout",
     "output_type": "stream",
     "text": [
      "[1, 2, 4]\n"
     ]
    }
   ],
   "source": [
    "# Eliminando repetidos de una lista\n",
    "\n",
    "def remove_deplicates(some_list):\n",
    "    without_duplicates = []\n",
    "    for element in some_list:\n",
    "        if element not in without_duplicates:\n",
    "            without_duplicates.append(element)\n",
    "    return without_duplicates\n",
    "\n",
    "\n",
    "def run():\n",
    "    random_list = [1,1,2,2,4]\n",
    "    print(remove_deplicates(random_list))\n",
    "    \n",
    "if __name__ == '__main__':\n",
    "    run()"
   ]
  },
  {
   "cell_type": "code",
   "execution_count": 61,
   "metadata": {},
   "outputs": [
    {
     "name": "stdout",
     "output_type": "stream",
     "text": [
      "[1, 2, 4]\n"
     ]
    }
   ],
   "source": [
    "# Practicando con Sets\n",
    "\n",
    "def remove_repiters(lista):\n",
    "    new_list = set(lista)\n",
    "    return list(new_list)\n",
    "\n",
    "def run():\n",
    "    lista = [1,1,2,2,4]\n",
    "    print(remove_repiters(lista))\n",
    "    \n",
    "if __name__ == '__main__':\n",
    "    run()"
   ]
  },
  {
   "cell_type": "code",
   "execution_count": null,
   "metadata": {},
   "outputs": [],
   "source": []
  }
 ],
 "metadata": {
  "kernelspec": {
   "display_name": "Python 3",
   "language": "python",
   "name": "python3"
  },
  "language_info": {
   "codemirror_mode": {
    "name": "ipython",
    "version": 3
   },
   "file_extension": ".py",
   "mimetype": "text/x-python",
   "name": "python",
   "nbconvert_exporter": "python",
   "pygments_lexer": "ipython3",
   "version": "3.7.0"
  }
 },
 "nbformat": 4,
 "nbformat_minor": 2
}
