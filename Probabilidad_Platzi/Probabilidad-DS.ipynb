{
 "cells": [
  {
   "cell_type": "markdown",
   "id": "a4a7c190",
   "metadata": {},
   "source": [
    "# Tipos de Probabilidad\n",
    "\n",
    "- Conjunta (joint): cuando calculo la probabilidad de muchos sucesos que se den al mismo tiempo.\n",
    "- Marginal\n",
    "- Condicional\n",
    "\n",
    "**Experimento: Tirar dos dados**\n",
    "\n",
    "**Probabilidad Conjunta:**\n",
    "\n",
    "<img src=\".\\img\\1.png\" width=\"600px\" height=\"600px\">\n",
    "<img src=\".\\img\\3.png\" width=\"600px\" height=\"600px\">\n",
    "\n",
    "**Probabilidad Condicional y Marginal**\n",
    "\n",
    "En este caso, que nos indique que B es par, condiciona el espacio muestral, por lo que ahora solo tenemos 18 casos diferentes posibles donde B es par y A toma cualquier valor.\n",
    "\n",
    "<img src=\".\\img\\2.png\" width=\"800px\" height=\"800px\">\n",
    "<img src=\".\\img\\4.png\" width=\"400px\" height=\"400px\">\n",
    "\n",
    "\n",
    "**La probabilidad condicional, no implica causalidad, es decir, probabilidad que suceda A, dado que sucedio B, no quiere decir necesariamente que B es la causa de A.**"
   ]
  },
  {
   "cell_type": "markdown",
   "id": "263f9c6d",
   "metadata": {},
   "source": [
    "# Ejemplos de Calcúlo de Probabilidad\n",
    "\n",
    "<img src=\".\\img\\5.png\" width=\"700px\" height=\"700px\">\n",
    "\n",
    "---\n",
    "\n",
    "<img src=\".\\img\\6.png\" width=\"500px\" height=\"500px\">\n",
    "\n",
    "Los eventos, tanto de la decision del jugado 1, como la decision del jugador 2, son excluyente, ya que no tiene un conjunto de interseccion.\n",
    "\n",
    "\n",
    "\n",
    "\n",
    "**Correlación entre sucesos:**\n",
    "\n",
    "Decimos que dos sucesos están correlacionados si la ocurrencia de uno vaira difectamente sobre la probabilidad del otro, pueden ser:\n",
    "\n",
    "- Correlación Positiva: La ocurrencia de un suceso incrementa la probabilidad de ocurrencia del otro.\n",
    "- Correlación Negativa: La ocurrencia de un suceso disminuye la probabilidad de ocurrencia del otro.\n",
    "\n",
    "**Nota: Dos elementos excluyente no son independientes, todo los contrario, tienen correlación negativa.**"
   ]
  },
  {
   "cell_type": "markdown",
   "id": "38f68912",
   "metadata": {},
   "source": [
    "# Ejemplos avanzados con probabilidad\n",
    "\n",
    "## Paradoja ¿Niño o Niña?\n",
    "\n",
    "- Una mujer tiene dos bebés donde el mayor es varón.\n",
    "- Una mujer tiene dos bebés donde uno de ellos es varón.\n",
    "\n",
    "<img src=\".\\img\\7.png\" width=\"700px\" height=\"700px\">\n",
    "\n",
    "## El problema de Monthy Hall\n",
    "\n",
    "<img src=\".\\img\\8.png\" width=\"700px\" height=\"700px\">\n",
    "\n"
   ]
  },
  {
   "cell_type": "markdown",
   "id": "d17dfc0c",
   "metadata": {},
   "source": [
    "# Qué es una distribución?\n",
    "\n",
    "<img src=\".\\img\\9.png\" width=\"500px\" height=\"500px\">\n",
    "\n",
    "Una Distribucion de probabilidad es una funcion (en el sentido matematico del calculo), que toma una variable aleatoria y a cada uno de sus posible estados dentro del espacio muestreal le asigna una probabilidad.\n",
    "\n",
    "**$X$ es una variable aleatoria donde $P$ va a ser la funcion, que a cada una de las ocurrencias o valores posibles de esta variable aleatoria le va a asignar un número, que llamaremos la probabilidad. De esta manera entendemos que $P$ es una funcion de la variable aleatoria.**\n",
    "\n",
    "<img src=\".\\img\\10.png\" width=\"400px\" height=\"400px\">\n",
    "\n",
    "**Dominio:**\n",
    "\n",
    "Las funciones tiene dominios, entonce el dominio viene por todos los valores posibles de la variables aleatoria sobre los cuales, la funcion puede ser calculada, y estos dominios pueden definir conjuntos discretos o continuos, definiendo asi, funciones que llamaremos, funciones discretas o funciones continuas.\n",
    "\n",
    "<img src=\".\\img\\11.png\" width=\"400px\" height=\"400px\">\n",
    "\n",
    "\n",
    "## Distribuciones de Probabilidad\n",
    "\n",
    "$X$ --> $P(X)$ --> `Distribucion de Probabilidad o Densidad de Probabilidad o Funcion de Probabilidad`\n",
    "\n",
    "\n",
    "Para Calcula la PA (probabilidad acumulada) de una distribucion de probabilidad discreta se una sumatoria. Mientras que para una distribucion de probabilidad continua se usa una integral.\n",
    "\n",
    "<img src=\".\\img\\12.png\" width=\"700px\" height=\"700px\">\n",
    "\n",
    "\n"
   ]
  },
  {
   "cell_type": "markdown",
   "id": "c1ff4d30",
   "metadata": {},
   "source": [
    "# Distribuciones Discretas\n",
    "\n",
    "Distribuciones de probabilidad\n",
    "\n",
    "## Distribucion de Bernoulli\n",
    "\n",
    "Esta distribucion, basicamente es la que nos permite describir ocurrencias con variables que son binarias, como el caso de una moneda, que al lanzarla solo hay dos posibilidades, cara o sello. Y entonces dependiendo de si la moneda es equilibrada o no, las probabilidades puedes ser 50 50. Asi que de forma general describimos una distribucion de bernoulli como una funcion que a la variable binaria le asigna dos valores, si $x = 1$ (siendo 1 -> Cara), entonces hay una probabilidad $p$, que tipicamente seria 0.5 en el caso de equilibrado, y cuando $x = 0$ (siendo 0 -> sello), entonces la probabilida se define como $1-p$, porque la suma de probabilidades tiene que dar 100%.\n",
    "\n",
    "<img src=\".\\img\\13.png\" width=\"400px\" height=\"400px\">\n",
    "\n",
    "## Distribucion Binomial\n",
    "\n",
    "<img src=\".\\img\\14.png\" width=\"500px\" height=\"500px\">\n",
    "\n",
    "Para cuando queremos hacer n lanzamientos se hace dificil obtener el espacio muestral y los casos de exitos para obtener la probabilidad, es por ello que hay una forma general, para obtener esos diferentes casos:\n",
    "\n",
    "<img src=\".\\img\\15.png\" width=\"500px\" height=\"500px\">\n",
    "\n",
    "**Tablero**\n",
    "\n",
    "$K$ -> Caras\n",
    "$n-K$ -> Monedas que cayeron en sello\n",
    "$n$ -> Lanzamientos\n",
    "\n",
    "<img src=\".\\img\\16.png\" width=\"800px\" height=\"800px\">\n",
    "\n",
    "Con la formula de combinatoria se pueden obtener los numeros de casos exitosos.\n",
    "\n",
    "\n",
    "<img src=\".\\img\\17.png\" width=\"800px\" height=\"800px\">\n",
    "\n",
    "**Entre [ ] esta la formula general de la distribucion binomial.**\n",
    "\n",
    "<img src=\".\\img\\18.png\" width=\"500px\" height=\"500px\">\n",
    "\n",
    "## Distribucion Multinomial:\n",
    "\n",
    "Una distribucion multinomial es aquella que seria la generalizacion natural de la binomial. Se podria usar en el ejemplo de tirar un dado, dado que no es binario, debido a que tiene multiples caras.\n",
    "\n",
    "<img src=\".\\img\\19.png\" width=\"500px\" height=\"500px\">\n",
    "\n",
    "<img src=\".\\img\\20.png\" width=\"300px\" height=\"300px\">"
   ]
  },
  {
   "cell_type": "code",
   "execution_count": 1,
   "id": "db0985a3",
   "metadata": {},
   "outputs": [],
   "source": [
    "import numpy as np\n",
    "from numpy.random import binomial\n",
    "from scipy.stats import binom\n",
    "from math import factorial\n",
    "import matplotlib.pyplot as plt"
   ]
  },
  {
   "cell_type": "markdown",
   "id": "19cdc097",
   "metadata": {},
   "source": [
    "## Secuencias de eventos tipo Bernoulli\n",
    "\n",
    "$$\n",
    "P(k, n; p) = {n \\choose k} p^k (1-p)^{n-k} = \\frac{n!}{k!(n-k)!}p^k (1-p)^{n-k}\n",
    "$$"
   ]
  },
  {
   "cell_type": "code",
   "execution_count": 2,
   "id": "41fa04df",
   "metadata": {},
   "outputs": [],
   "source": [
    "def my_binomial(k, n, p):\n",
    "    return factorial(n)/(factorial(k)*factorial(n-k))*pow(p,k)*pow(1-p,n-k)"
   ]
  },
  {
   "cell_type": "code",
   "execution_count": 4,
   "id": "f0d61b1e",
   "metadata": {},
   "outputs": [
    {
     "data": {
      "text/plain": [
       "0.375"
      ]
     },
     "execution_count": 4,
     "metadata": {},
     "output_type": "execute_result"
    }
   ],
   "source": [
    "my_binomial(2,3,0.5)"
   ]
  },
  {
   "cell_type": "code",
   "execution_count": 6,
   "id": "a2d685b9",
   "metadata": {},
   "outputs": [
    {
     "data": {
      "text/plain": [
       "0.375"
      ]
     },
     "execution_count": 6,
     "metadata": {},
     "output_type": "execute_result"
    }
   ],
   "source": [
    "3/8"
   ]
  },
  {
   "cell_type": "code",
   "execution_count": 8,
   "id": "a0675364",
   "metadata": {},
   "outputs": [
    {
     "data": {
      "text/plain": [
       "0.3750000000000001"
      ]
     },
     "execution_count": 8,
     "metadata": {},
     "output_type": "execute_result"
    }
   ],
   "source": [
    "dist = binom(3,0.5) # 3 lanzamientos para una probabilidad de 0.5\n",
    "dist.pmf(2) # 2 exitos     pmf -> Densidad de probabilidad"
   ]
  },
  {
   "cell_type": "markdown",
   "id": "bd98c5b9",
   "metadata": {},
   "source": [
    "## Validación del ejercicio hecho a mano\n",
    "\n",
    "$$\n",
    "P(k\\leq 2, n=3, p=1/2) = \\sum_{k=0}^2 \\left[ \\frac{n!}{k!(n-k)!}p^k (1-p)^{n-k} \\right] = \\frac{7}{8}\n",
    "$$"
   ]
  },
  {
   "cell_type": "code",
   "execution_count": 10,
   "id": "07d57673",
   "metadata": {},
   "outputs": [
    {
     "data": {
      "text/plain": [
       "0.875"
      ]
     },
     "execution_count": 10,
     "metadata": {},
     "output_type": "execute_result"
    }
   ],
   "source": [
    "dist.cdf(2)  # cdf -> Distribucion acumulada o funcion de densidad acumulada --> para k <= 2\n"
   ]
  },
  {
   "cell_type": "code",
   "execution_count": 12,
   "id": "e0076502",
   "metadata": {},
   "outputs": [
    {
     "data": {
      "text/plain": [
       "0.875"
      ]
     },
     "execution_count": 12,
     "metadata": {},
     "output_type": "execute_result"
    }
   ],
   "source": [
    "7/8"
   ]
  },
  {
   "cell_type": "markdown",
   "id": "649b2029",
   "metadata": {},
   "source": [
    "## Simulaciones de secuencias con generadores aleatorios\n",
    "\n",
    "* Los generadores aleatorios tienen como propósito simular muestras de datos que resultarían de muestreos en la vida real de procesos aleatorios como lanzar una moneda o un dado."
   ]
  },
  {
   "cell_type": "code",
   "execution_count": 167,
   "id": "e99bfa14",
   "metadata": {},
   "outputs": [
    {
     "data": {
      "text/plain": [
       "1"
      ]
     },
     "execution_count": 167,
     "metadata": {},
     "output_type": "execute_result"
    }
   ],
   "source": [
    "# Simulción con 100 lanzamientos de moneda equilibrada\n",
    "# (Ejecuta esta celda varias veces para observar la variacion en los resultados)\n",
    "\n",
    "\n",
    "p = 0.5\n",
    "n = 3\n",
    "binomial(n,p) # El valor que me da, por ej: 3, es cuantas monedas de los n = 3 lanzamientos han caido en cara."
   ]
  },
  {
   "cell_type": "code",
   "execution_count": 168,
   "id": "2a445867",
   "metadata": {},
   "outputs": [],
   "source": [
    "arr = []\n",
    "\n",
    "for _ in range(100):\n",
    "    arr.append(binomial(n, p))"
   ]
  },
  {
   "cell_type": "code",
   "execution_count": 174,
   "id": "6e55ba78",
   "metadata": {},
   "outputs": [
    {
     "data": {
      "text/plain": [
       "array([0.1 , 0.36, 0.42, 0.12])"
      ]
     },
     "execution_count": 174,
     "metadata": {},
     "output_type": "execute_result"
    }
   ],
   "source": [
    "np.unique(arr, return_counts = True)[1] # Me dira cuantas veces aparece un valor en la lista arr\n",
    "\n",
    "# Calcular las probabilidades\n",
    "\n",
    "np.unique(arr, return_counts = True)[1] / len(arr)"
   ]
  },
  {
   "cell_type": "code",
   "execution_count": 184,
   "id": "40a8422e",
   "metadata": {},
   "outputs": [
    {
     "data": {
      "image/png": "[encoded data removed]",
      "text/plain": [
       "<Figure size 432x288 with 1 Axes>"
      ]
     },
     "metadata": {
      "needs_background": "light"
     },
     "output_type": "display_data"
    }
   ],
   "source": [
    "def plot_hist(num_trials):\n",
    "    values = [0,1,2,3] # 0 caras, 1 cara, 2 caras, 3 caras\n",
    "    arr = []\n",
    "    for _ in range(num_trials):\n",
    "        arr.append(binomial(n, p))\n",
    "    \n",
    "    # Contruir una simulacion simulada\n",
    "    sim = np.unique(arr, return_counts = True)[1] / len(arr)\n",
    "    teorica = [binom(3, 0.5).pmf(k) for k in values] # resultados de la distribucion teorica\n",
    "    plt.bar(values, sim, color = 'red')\n",
    "    plt.bar(values, teorica, alpha = 0.5, color = 'blue')\n",
    "    plt.title('{} experimentos'.format(num_trials))\n",
    "    plt.show()\n",
    "    \n",
    "plot_hist(20)\n"
   ]
  },
  {
   "cell_type": "code",
   "execution_count": 186,
   "id": "fa6ac99c",
   "metadata": {},
   "outputs": [
    {
     "data": {
      "image/png": "[encoded data removed]",
      "text/plain": [
       "<Figure size 432x288 with 1 Axes>"
      ]
     },
     "metadata": {
      "needs_background": "light"
     },
     "output_type": "display_data"
    }
   ],
   "source": [
    "plot_hist(200)"
   ]
  },
  {
   "cell_type": "code",
   "execution_count": 188,
   "id": "e1775305",
   "metadata": {},
   "outputs": [
    {
     "data": {
      "image/png": "[encoded data removed]",
      "text/plain": [
       "<Figure size 432x288 with 1 Axes>"
      ]
     },
     "metadata": {
      "needs_background": "light"
     },
     "output_type": "display_data"
    }
   ],
   "source": [
    "plot_hist(20000)"
   ]
  },
  {
   "cell_type": "markdown",
   "id": "0f209554",
   "metadata": {},
   "source": [
    "# Distribuciones Continuas\n",
    "\n",
    "Variables aleatorias continuas, son valores que no son necesariamente numeros enteros\n",
    "\n",
    "<img src=\".\\img\\21.png\" width=\"400px\" height=\"400px\">"
   ]
  },
  {
   "cell_type": "code",
   "execution_count": 189,
   "id": "1d9d1b7f",
   "metadata": {},
   "outputs": [],
   "source": [
    "import pandas as pd\n",
    "import numpy as np \n",
    "import matplotlib.pyplot as plt\n",
    "from scipy.stats import norm "
   ]
  },
  {
   "cell_type": "markdown",
   "id": "c2c1041d",
   "metadata": {},
   "source": [
    "## Distribución normal teórica\n",
    "\n",
    "\n",
    "$$P(X) = \\frac{1}{\\sigma \\sqrt{2 \\pi}} \\exp{\\left[-\\frac{1}{2}\\left(\\frac{X-\\mu}{\\sigma} \\right)^2 \\right]}$$\n",
    "\n",
    "* $\\mu$: media de la distribución\n",
    "* $\\sigma$: desviación estándar de la distribución"
   ]
  },
  {
   "cell_type": "code",
   "execution_count": 191,
   "id": "e8a66ca0",
   "metadata": {},
   "outputs": [],
   "source": [
    "def gaussian(x, mu, sigma):\n",
    "    return 1/(sigma*np.sqrt(2*np.pi))*np.exp(-0.5*pow((x-mu)/sigma, 2))"
   ]
  },
  {
   "cell_type": "code",
   "execution_count": 197,
   "id": "3564bbcf",
   "metadata": {},
   "outputs": [
    {
     "data": {
      "text/plain": [
       "[<matplotlib.lines.Line2D at 0x1b5ff794370>]"
      ]
     },
     "execution_count": 197,
     "metadata": {},
     "output_type": "execute_result"
    },
    {
     "data": {
      "image/png": "[encoded data removed]",
      "text/plain": [
       "<Figure size 432x288 with 1 Axes>"
      ]
     },
     "metadata": {
      "needs_background": "light"
     },
     "output_type": "display_data"
    }
   ],
   "source": [
    "x = np.arange(-4,4,0.1)\n",
    "y = gaussian(x, 1.0, 0.5)\n",
    "\n",
    "plt.plot(x,y)"
   ]
  },
  {
   "cell_type": "code",
   "execution_count": 199,
   "id": "08172a24",
   "metadata": {},
   "outputs": [
    {
     "data": {
      "text/plain": [
       "[<matplotlib.lines.Line2D at 0x1b5ff7ff220>]"
      ]
     },
     "execution_count": 199,
     "metadata": {},
     "output_type": "execute_result"
    },
    {
     "data": {
      "image/png": "[encoded data removed]",
      "text/plain": [
       "<Figure size 432x288 with 1 Axes>"
      ]
     },
     "metadata": {
      "needs_background": "light"
     },
     "output_type": "display_data"
    }
   ],
   "source": [
    "dist = norm(0, 1)\n",
    "x = np.arange(-4,4,0.1)\n",
    "y = [dist.pdf(value) for value in x] # pdf -> Funcion de densidad de probabilidad\n",
    "plt.plot(x,y)"
   ]
  },
  {
   "cell_type": "code",
   "execution_count": 201,
   "id": "e6e90bf6",
   "metadata": {},
   "outputs": [
    {
     "data": {
      "text/plain": [
       "[<matplotlib.lines.Line2D at 0x1b5ff9751f0>]"
      ]
     },
     "execution_count": 201,
     "metadata": {},
     "output_type": "execute_result"
    },
    {
     "data": {
      "image/png": "[encoded data removed]",
      "text/plain": [
       "<Figure size 432x288 with 1 Axes>"
      ]
     },
     "metadata": {
      "needs_background": "light"
     },
     "output_type": "display_data"
    }
   ],
   "source": [
    "# FUNCION ACUMULADA DE PROBABILIDAD\n",
    "\n",
    "dist = norm(0, 1)\n",
    "x = np.arange(-4,4,0.1)\n",
    "y = [dist.cdf(value) for value in x]\n",
    "plt.plot(x,y)"
   ]
  },
  {
   "cell_type": "code",
   "execution_count": 212,
   "id": "2b5c8ad0",
   "metadata": {},
   "outputs": [
    {
     "data": {
      "text/plain": [
       "<BarContainer object of 19 artists>"
      ]
     },
     "execution_count": 212,
     "metadata": {},
     "output_type": "execute_result"
    },
    {
     "data": {
      "image/png": "[encoded data removed]",
      "text/plain": [
       "<Figure size 432x288 with 1 Axes>"
      ]
     },
     "metadata": {
      "needs_background": "light"
     },
     "output_type": "display_data"
    }
   ],
   "source": [
    "df = pd.read_excel('./csv/s057.xls')\n",
    "arr = df['Normally Distributed Housefly Wing Lengths'].values[4:]\n",
    "values, dist = np.unique(arr, return_counts=True) # Aqui me devuelve dos listas, uno con valores unicos y la otra la frecuencia\n",
    "plt.bar(values, dist)"
   ]
  },
  {
   "cell_type": "code",
   "execution_count": 214,
   "id": "4045355f",
   "metadata": {},
   "outputs": [
    {
     "data": {
      "text/plain": [
       "<BarContainer object of 19 artists>"
      ]
     },
     "execution_count": 214,
     "metadata": {},
     "output_type": "execute_result"
    },
    {
     "data": {
      "image/png": "[encoded data removed]",
      "text/plain": [
       "<Figure size 432x288 with 1 Axes>"
      ]
     },
     "metadata": {
      "needs_background": "light"
     },
     "output_type": "display_data"
    }
   ],
   "source": [
    "# Estimacion de distribucion\n",
    "\n",
    "mu = arr.mean() # Promedio\n",
    "sigma = arr.std() # Desviacion estandar\n",
    "x = np.arange(30,60)\n",
    "dist = norm(mu, sigma) # Gauseana\n",
    "y = [dist.pdf(values) for values in x]\n",
    "plt.plot(x,y)\n",
    "values, dist = np.unique(arr, return_counts=True) # Aqui me devuelve dos listas, uno con valores unicos y la otra la frecuencia\n",
    "plt.bar(values, dist/len(arr))"
   ]
  },
  {
   "cell_type": "code",
   "execution_count": 215,
   "id": "a10fae26",
   "metadata": {},
   "outputs": [
    {
     "data": {
      "text/plain": [
       "(array([37, 38, 39, 40, 41, 42, 43, 44, 45, 46, 47, 48, 49, 50, 51, 52, 53,\n",
       "        54, 55], dtype=object),\n",
       " array([ 1,  2,  2,  4,  6,  7,  8,  9, 10, 10,  9,  8,  7,  6,  4,  2,  2,\n",
       "         1,  1], dtype=int64))"
      ]
     },
     "execution_count": 215,
     "metadata": {},
     "output_type": "execute_result"
    }
   ],
   "source": [
    "np.unique(arr, return_counts=True)"
   ]
  },
  {
   "cell_type": "markdown",
   "id": "3ca43eb1",
   "metadata": {},
   "source": [
    "## Otras distribuciones para variables continuas:\n",
    "\n",
    "<img src=\".\\img\\22.png\" width=\"200px\" height=\"200px\">"
   ]
  },
  {
   "cell_type": "markdown",
   "id": "c86d0611",
   "metadata": {},
   "source": [
    "# Cómo estimar una distribución?"
   ]
  },
  {
   "cell_type": "code",
   "execution_count": 1,
   "id": "624fac35",
   "metadata": {},
   "outputs": [],
   "source": [
    "import numpy as np\n",
    "from matplotlib import pyplot\n",
    "from numpy.random import normal\n",
    "from scipy.stats import norm\n"
   ]
  },
  {
   "cell_type": "code",
   "execution_count": 2,
   "id": "f982ae0f",
   "metadata": {},
   "outputs": [
    {
     "data": {
      "text/plain": [
       "(array([2.000e+00, 7.000e+00, 1.800e+01, 2.700e+01, 6.000e+01, 9.500e+01,\n",
       "        1.560e+02, 2.460e+02, 3.940e+02, 5.450e+02, 6.650e+02, 7.930e+02,\n",
       "        9.850e+02, 9.750e+02, 1.006e+03, 9.480e+02, 8.000e+02, 6.690e+02,\n",
       "        5.330e+02, 3.890e+02, 2.710e+02, 1.600e+02, 1.110e+02, 6.700e+01,\n",
       "        3.100e+01, 2.500e+01, 1.500e+01, 4.000e+00, 1.000e+00, 2.000e+00]),\n",
       " array([-3.49420981, -3.24516293, -2.99611605, -2.74706918, -2.4980223 ,\n",
       "        -2.24897543, -1.99992855, -1.75088168, -1.5018348 , -1.25278792,\n",
       "        -1.00374105, -0.75469417, -0.5056473 , -0.25660042, -0.00755355,\n",
       "         0.24149333,  0.4905402 ,  0.73958708,  0.98863396,  1.23768083,\n",
       "         1.48672771,  1.73577458,  1.98482146,  2.23386833,  2.48291521,\n",
       "         2.73196208,  2.98100896,  3.23005584,  3.47910271,  3.72814959,\n",
       "         3.97719646]),\n",
       " <BarContainer object of 30 artists>)"
      ]
     },
     "execution_count": 2,
     "metadata": {},
     "output_type": "execute_result"
    },
    {
     "data": {
      "image/png": "[encoded data removed]",
      "text/plain": [
       "<Figure size 432x288 with 1 Axes>"
      ]
     },
     "metadata": {
      "needs_background": "light"
     },
     "output_type": "display_data"
    }
   ],
   "source": [
    "sample = normal(size = 10000) # Generador que crear 10000 datos al azar, basado en la distribucion normal\n",
    "pyplot.hist(sample, bins = 30)"
   ]
  },
  {
   "cell_type": "markdown",
   "id": "e6871c63",
   "metadata": {},
   "source": [
    "## Estimacion paramétrica\n",
    "\n",
    "Esta basada en forzar los parametros de la distribucion."
   ]
  },
  {
   "cell_type": "code",
   "execution_count": 4,
   "id": "82f6d23e",
   "metadata": {
    "scrolled": true
   },
   "outputs": [
    {
     "data": {
      "image/png": "[encoded data removed]",
      "text/plain": [
       "<Figure size 432x288 with 1 Axes>"
      ]
     },
     "metadata": {
      "needs_background": "light"
     },
     "output_type": "display_data"
    }
   ],
   "source": [
    "sample = normal(loc = 50, scale = 5, size = 1000) # mu = 50, sigma = 5\n",
    "mu = sample.mean()\n",
    "sigma = sample.std()\n",
    "dist = norm(mu, sigma)\n",
    "values = [value for value in range(30,70)]\n",
    "probabilidades = [dist.pdf(value) for value in values]\n",
    "pyplot.hist(sample, bins = 30, density = True)\n",
    "pyplot.plot(values, probabilidades)\n",
    "pyplot.show()"
   ]
  },
  {
   "cell_type": "markdown",
   "id": "d11ca1b0",
   "metadata": {},
   "source": [
    "## Estimación no paramétrica\n",
    "\n",
    "No estoy forzando parametros de una distribucion unica, sino que lo que voy a hacer es una combinacion de varias distribuciones.\n"
   ]
  }
 ],
 "metadata": {
  "kernelspec": {
   "display_name": "Python 3 (ipykernel)",
   "language": "python",
   "name": "python3"
  },
  "language_info": {
   "codemirror_mode": {
    "name": "ipython",
    "version": 3
   },
   "file_extension": ".py",
   "mimetype": "text/x-python",
   "name": "python",
   "nbconvert_exporter": "python",
   "pygments_lexer": "ipython3",
   "version": "3.9.12"
  }
 },
 "nbformat": 4,
 "nbformat_minor": 5
}
